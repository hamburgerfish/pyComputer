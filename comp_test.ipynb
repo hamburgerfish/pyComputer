{
 "cells": [
  {
   "cell_type": "code",
   "execution_count": 1,
   "metadata": {},
   "outputs": [],
   "source": [
    "import comp"
   ]
  },
  {
   "cell_type": "code",
   "execution_count": 2,
   "metadata": {},
   "outputs": [],
   "source": [
    "x = comp.cpu()"
   ]
  },
  {
   "cell_type": "code",
   "execution_count": 3,
   "metadata": {},
   "outputs": [],
   "source": [
    "x.r(38,\n",
    "    1,0,0,0, 0,0,0,0,0,0,0,1, 0,0,0,0,0,0,1,1, # MOV        1       0x00000011\n",
    "    1,0,0,0, 0,0,0,0,0,0,0,1, 0,0,0,0,0,1,1,1, # MOV        1       0x00000111\n",
    "    1,0,1,0, 0,0,0,0,0,0,0,1, 0,0,0,0,0,0,1,1, # LDR        REGB    0x00000011\n",
    "    1,0,1,0, 0,0,0,0,0,0,1,0, 0,0,0,0,0,1,1,1, # LDR        REGC    0x00000111\n",
    "    0,0,0,0, 0,0,0,0,0,0,0,1, 0,0,0,0,0,0,1,0, # ADD        REGB    REGC\n",
    "    1,0,0,1, 0,0,0,0,0,0,0,1, 0,0,0,0,0,1,1,1, # STR        REGB    0x00000111\n",
    "    1,0,0,1, 0,0,0,0,0,0,0,0, 0,0,0,0,0,0,1,1, # STR        REGA    0x00000011\n",
    "    1,0,1,1, 0,0,0,0,0,0,1,0, 0,0,0,0,0,0,0,0, # JMP        2\n",
    "    0,0,0,0, 0,0,0,0,0,0,0,0, 0,0,0,0,0,0,0,0,\n",
    "    0,0,0,0, 0,0,0,0,0,0,0,0, 0,0,0,0,0,0,0,0,\n",
    "    0,0,0,0, 0,0,0,0,0,0,0,0, 0,0,0,0,0,0,0,0,\n",
    "    0,0,0,0, 0,0,0,0,0,0,0,0, 0,0,0,0,0,0,0,0,\n",
    "    0,0,0,0, 0,0,0,0,0,0,0,0, 0,0,0,0,0,0,0,0,\n",
    "    0,0,0,0, 0,0,0,0,0,0,0,0, 0,0,0,0,0,0,0,0,\n",
    "    0,0,0,0, 0,0,0,0,0,0,0,0, 0,0,0,0,0,0,0,0,\n",
    "    0,0,0,0, 0,0,0,0,0,0,0,0, 0,0,0,0,0,0,0,0,\n",
    "    )"
   ]
  },
  {
   "cell_type": "code",
   "execution_count": 4,
   "metadata": {},
   "outputs": [],
   "source": [
    "b = list(x.rega.r(0, 1, 0,0,0,0,0,0,0,0, 1))"
   ]
  },
  {
   "cell_type": "code",
   "execution_count": 5,
   "metadata": {},
   "outputs": [
    {
     "data": {
      "text/plain": [
       "21"
      ]
     },
     "execution_count": 5,
     "metadata": {},
     "output_type": "execute_result"
    }
   ],
   "source": [
    "int(\"\".join(str(i) for i in b), 2)"
   ]
  },
  {
   "cell_type": "code",
   "execution_count": null,
   "metadata": {},
   "outputs": [],
   "source": []
  }
 ],
 "metadata": {
  "kernelspec": {
   "display_name": "Python 3",
   "language": "python",
   "name": "python3"
  },
  "language_info": {
   "codemirror_mode": {
    "name": "ipython",
    "version": 3
   },
   "file_extension": ".py",
   "mimetype": "text/x-python",
   "name": "python",
   "nbconvert_exporter": "python",
   "pygments_lexer": "ipython3",
   "version": "3.10.0"
  }
 },
 "nbformat": 4,
 "nbformat_minor": 2
}
